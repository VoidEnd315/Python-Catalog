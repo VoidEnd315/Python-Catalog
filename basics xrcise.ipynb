{
 "cells": [
  {
   "cell_type": "code",
   "execution_count": 1,
   "id": "9f057d99",
   "metadata": {},
   "outputs": [
    {
     "name": "stdout",
     "output_type": "stream",
     "text": [
      "prime\n"
     ]
    }
   ],
   "source": [
    "#prime\n",
    "n = 2\n",
    "flag = 0\n",
    "if n < 2:\n",
    "    print(\"not prime\")\n",
    "else:\n",
    "    a = (n+1)//2\n",
    "    for i in range(2, a + 1):\n",
    "        if n % i == 0:\n",
    "            flag = flag + 1\n",
    "            break\n",
    "    if flag != 0:\n",
    "        print(\"not prime\")\n",
    "    else:\n",
    "        print(\"prime\")\n"
   ]
  },
  {
   "cell_type": "code",
   "execution_count": 2,
   "id": "65700f36",
   "metadata": {},
   "outputs": [
    {
     "name": "stdout",
     "output_type": "stream",
     "text": [
      "2321\n"
     ]
    }
   ],
   "source": [
    "#palindrome\n",
    "n=1232\n",
    "store=0\n",
    "while(n>0):\n",
    "    rem=n%10\n",
    "    store = store*10 + rem\n",
    "    n=n//10\n",
    "print(store)"
   ]
  },
  {
   "cell_type": "code",
   "execution_count": 3,
   "id": "8a4a10e7",
   "metadata": {},
   "outputs": [
    {
     "name": "stdout",
     "output_type": "stream",
     "text": [
      "1634\n"
     ]
    }
   ],
   "source": [
    "#armstong\n",
    "a=n=1634\n",
    "i=0\n",
    "store=0\n",
    "while(n>0):\n",
    "    i=i+1\n",
    "    n=n//10\n",
    "while(a>0):\n",
    "    rem=a%10\n",
    "    store = store + rem**i\n",
    "    a=a//10\n",
    "print(store)"
   ]
  },
  {
   "cell_type": "code",
   "execution_count": 4,
   "id": "b5f7a131",
   "metadata": {},
   "outputs": [
    {
     "name": "stdout",
     "output_type": "stream",
     "text": [
      "1.Ayy, Mustard on the beat, hoe\n",
      "2.Deebo, any rap nigga, he a free throw\n",
      "3.Man down, call an amberlamps, tell him, \"Breathe, bro\"\n",
      "4.Nail a nigga to the cross, he walk around like Teezo\n"
     ]
    }
   ],
   "source": [
    "#FILE OPERATIONS\n",
    "try:\n",
    "    file = open(\"example.txt\", \"r\")\n",
    "    content = file.read()\n",
    "    print(content)\n",
    "except FileNotFoundError:\n",
    "    print(\"File not found!\")\n",
    "finally:\n",
    "    file.close() "
   ]
  },
  {
   "cell_type": "code",
   "execution_count": 5,
   "id": "72843734-1de7-4a4f-a7f4-ed022c5585f6",
   "metadata": {},
   "outputs": [
    {
     "name": "stdout",
     "output_type": "stream",
     "text": [
      "Error happened\n",
      "Execution completed.\n",
      "\n",
      "Error: Cannot divide by zero! division by zero\n",
      "Execution completed.\n"
     ]
    }
   ],
   "source": [
    "#EXCEPTION HANDLING\n",
    "\n",
    "#1\n",
    "try:\n",
    "    result = 10 / x\n",
    "except :\n",
    "    print(\"Error happened\")\n",
    "else:\n",
    "    print(\"The division result is:\", result)\n",
    "finally:\n",
    "    print(\"Execution completed.\\n\")\n",
    "#2\n",
    "try:\n",
    "    result = 10 / 0\n",
    "except ZeroDivisionError as e:\n",
    "    print(\"Error: Cannot divide by zero!\", e)\n",
    "else:\n",
    "    print(\"The division result is:\", result)\n",
    "finally:\n",
    "    print(\"Execution completed.\")\n"
   ]
  },
  {
   "cell_type": "code",
   "execution_count": 6,
   "id": "9ea45bbe-da2f-4136-881b-26aa2404829b",
   "metadata": {},
   "outputs": [
    {
     "name": "stdout",
     "output_type": "stream",
     "text": [
      "['apple', 'banana', 'mango']\n",
      "['apple', 'banana', 'mango']\n"
     ]
    }
   ],
   "source": [
    "#LIST COMPREHENSION\n",
    "#normal\n",
    "fruits = [\"apple\", \"banana\", \"cherry\", \"kiwi\", \"mango\"]\n",
    "newlist = []\n",
    "\n",
    "for x in fruits:\n",
    "  if \"a\" in x:\n",
    "    newlist.append(x)\n",
    "\n",
    "print(newlist)\n",
    "\n",
    "#comprehension\n",
    "fruits = [\"apple\", \"banana\", \"cherry\", \"kiwi\", \"mango\"]\n",
    "\n",
    "newlist = [x for x in fruits if \"a\" in x]\n",
    "\n",
    "print(newlist)"
   ]
  }
 ],
 "metadata": {
  "kernelspec": {
   "display_name": "Python 3 (ipykernel)",
   "language": "python",
   "name": "python3"
  },
  "language_info": {
   "codemirror_mode": {
    "name": "ipython",
    "version": 3
   },
   "file_extension": ".py",
   "mimetype": "text/x-python",
   "name": "python",
   "nbconvert_exporter": "python",
   "pygments_lexer": "ipython3",
   "version": "3.11.7"
  }
 },
 "nbformat": 4,
 "nbformat_minor": 5
}

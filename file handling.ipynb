{
 "cells": [
  {
   "cell_type": "markdown",
   "id": "ef8728be-c2d1-4b58-882f-30c82ef72891",
   "metadata": {},
   "source": [
    "Reading from a File"
   ]
  },
  {
   "cell_type": "code",
   "execution_count": 6,
   "id": "ef075016-0001-4bb3-bff8-f253c04e8591",
   "metadata": {},
   "outputs": [
    {
     "name": "stdout",
     "output_type": "stream",
     "text": [
      "1.She was more like a beauty queen from a movie scene\n",
      "2.I said don't mind, but what do you mean, I am the one\n",
      "3.Who will dance on the floor in the round?\n",
      "4.She said I am the one, who will dance on the floor in the round\n",
      "1.She was more like a beauty queen from a movie scene\n",
      "\n",
      "1.She was more like a beauty queen from a movie scene\n",
      "\n",
      "2.I said don't mind, but what do you mean, I am the one\n",
      "\n",
      "3.Who will dance on the floor in the round?\n",
      "\n",
      "4.She said I am the one, who will dance on the floor in the round\n"
     ]
    }
   ],
   "source": [
    "# Reading Entire File Using read()\n",
    "file = open('example.txt', 'r')\n",
    "content = file.read()\n",
    "print(content)\n",
    "file.close()\n",
    "\n",
    "#Reading Line by Line Using readline()\n",
    "file = open('example.txt', 'r')\n",
    "line = file.readline()\n",
    "print(line)\n",
    "file.close()\n",
    "\n",
    "#Reading All Lines into a List Using readlines()\n",
    "file = open('example.txt', 'r')\n",
    "lines = file.readlines()\n",
    "for x in lines:\n",
    "    print(x)\n",
    "file.close()"
   ]
  },
  {
   "cell_type": "markdown",
   "id": "46e20a42-a0f7-430b-9e82-a6ede33078f0",
   "metadata": {},
   "source": [
    "Writing to a File"
   ]
  },
  {
   "cell_type": "code",
   "execution_count": 7,
   "id": "b10757c8-5b72-4a40-85f1-bfedb9d871ca",
   "metadata": {},
   "outputs": [],
   "source": [
    "#1\n",
    "file = open('examplewr.txt', 'w')\n",
    "file.write(\"Hello, World!\\n\")  \n",
    "file.close()\n",
    "\n",
    "#2\n",
    "lines = [\"First line\\n\", \"Second line\\n\", \"Third line\\n\"]\n",
    "file = open('examplewr.txt', 'w')\n",
    "file.writelines(lines)\n",
    "file.close()"
   ]
  },
  {
   "cell_type": "markdown",
   "id": "0bc8d7a5-23c3-48b0-8dba-31dc1e3a4886",
   "metadata": {},
   "source": [
    "Appending to a File"
   ]
  },
  {
   "cell_type": "code",
   "execution_count": 8,
   "id": "a3e25395-ba2f-4ea1-a0bd-5f2650f49346",
   "metadata": {},
   "outputs": [],
   "source": [
    "file = open('examplewr.txt', 'a')\n",
    "file.write(\"This will be added to the end.\\n\")\n",
    "file.close()"
   ]
  },
  {
   "cell_type": "markdown",
   "id": "bf373fc6-f724-4c67-b7c4-76da87c0915c",
   "metadata": {},
   "source": [
    "Using the with Statement"
   ]
  },
  {
   "cell_type": "code",
   "execution_count": 9,
   "id": "3c7d7680-60e7-4755-98c5-73322a9772ce",
   "metadata": {},
   "outputs": [
    {
     "name": "stdout",
     "output_type": "stream",
     "text": [
      "1.She was more like a beauty queen from a movie scene\n",
      "2.I said don't mind, but what do you mean, I am the one\n",
      "3.Who will dance on the floor in the round?\n",
      "4.She said I am the one, who will dance on the floor in the round\n"
     ]
    }
   ],
   "source": [
    "with open('example.txt', 'r') as file:\n",
    "    content = file.read()\n",
    "    print(content)"
   ]
  },
  {
   "cell_type": "code",
   "execution_count": null,
   "id": "afc30dc4-4e34-48d8-aac2-8b0c2e2d947d",
   "metadata": {},
   "outputs": [],
   "source": []
  }
 ],
 "metadata": {
  "kernelspec": {
   "display_name": "Python 3 (ipykernel)",
   "language": "python",
   "name": "python3"
  },
  "language_info": {
   "codemirror_mode": {
    "name": "ipython",
    "version": 3
   },
   "file_extension": ".py",
   "mimetype": "text/x-python",
   "name": "python",
   "nbconvert_exporter": "python",
   "pygments_lexer": "ipython3",
   "version": "3.11.7"
  }
 },
 "nbformat": 4,
 "nbformat_minor": 5
}

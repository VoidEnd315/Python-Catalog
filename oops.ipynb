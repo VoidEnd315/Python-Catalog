{
 "cells": [
  {
   "cell_type": "code",
   "execution_count": 1,
   "id": "f713d67b",
   "metadata": {},
   "outputs": [
    {
     "name": "stdout",
     "output_type": "stream",
     "text": [
      "Hello, Alice!\n",
      "Bob 30\n"
     ]
    }
   ],
   "source": [
    "# Function\n",
    "def greet(name):\n",
    "    return f\"Hello, {name}!\"\n",
    "\n",
    "# Class with constructor\n",
    "class Person:\n",
    "    def __init__(self, name, age):\n",
    "        self.name = name\n",
    "        self.age = age\n",
    "\n",
    "# Using the function\n",
    "print(greet(\"Alice\"))\n",
    "\n",
    "# Using the constructor\n",
    "person = Person(\"Bob\", 30)\n",
    "print(person.name, person.age)"
   ]
  },
  {
   "cell_type": "code",
   "execution_count": 2,
   "id": "2e435b60",
   "metadata": {},
   "outputs": [
    {
     "name": "stdout",
     "output_type": "stream",
     "text": [
      "There are many types of red.\n",
      "Most of the birds can fly but some cannot.\n",
      "There are many types of yellow.\n",
      "Sparrows can fly.\n"
     ]
    }
   ],
   "source": [
    "class Bird: # a class\n",
    "    \n",
    "    def __init__(self,lifespan,color): #constructor\n",
    "        self.lifespan=lifespan         #attributes/variable\n",
    "        self.color=color\n",
    "        \n",
    "    def intro(self):                   #method                                \n",
    "        print(f\"There are many types of {self.color}.\")\n",
    "\n",
    "    def flight(self):\n",
    "        print(\"Most of the birds can fly but some cannot.\")\n",
    "\n",
    "class sparrow(Bird):                   #inhertence\n",
    "  \n",
    "    def flight(self):                  #method overriding\n",
    "        print(\"Sparrows can fly.\")\n",
    "\n",
    "class ostrich(Bird):\n",
    "\n",
    "    def flight(self):\n",
    "        print(\"Ostriches cannot fly.\")\n",
    "\n",
    "obj_bird = Bird(9,\"red\")   #objects\n",
    "obj_spr = sparrow(9,\"yellow\")\n",
    "\n",
    "obj_bird.intro()\n",
    "obj_bird.flight()\n",
    "\n",
    "obj_spr.intro()\n",
    "obj_spr.flight()\n",
    "\n"
   ]
  },
  {
   "cell_type": "code",
   "execution_count": 3,
   "id": "a29e5b94",
   "metadata": {},
   "outputs": [
    {
     "name": "stdout",
     "output_type": "stream",
     "text": [
      "hello\n",
      "7\n"
     ]
    }
   ],
   "source": [
    "#POLYMORPHISM\n",
    "def greet():\n",
    "    print(\"hello\")\n",
    "greet()\n",
    "def greet(x,y):\n",
    "    sum = x+y\n",
    "    return sum\n",
    "print(greet(2,5))"
   ]
  }
 ],
 "metadata": {
  "kernelspec": {
   "display_name": "Python 3 (ipykernel)",
   "language": "python",
   "name": "python3"
  },
  "language_info": {
   "codemirror_mode": {
    "name": "ipython",
    "version": 3
   },
   "file_extension": ".py",
   "mimetype": "text/x-python",
   "name": "python",
   "nbconvert_exporter": "python",
   "pygments_lexer": "ipython3",
   "version": "3.11.7"
  }
 },
 "nbformat": 4,
 "nbformat_minor": 5
}

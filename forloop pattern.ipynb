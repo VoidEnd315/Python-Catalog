{
 "cells": [
  {
   "cell_type": "code",
   "execution_count": 7,
   "id": "6db4aa12",
   "metadata": {},
   "outputs": [
    {
     "name": "stdout",
     "output_type": "stream",
     "text": [
      "0123\n",
      "0123\n",
      "0123\n",
      "0123\n"
     ]
    }
   ],
   "source": [
    "for i in range(4):\n",
    "    for j in range(4):\n",
    "        print(j,end='')\n",
    "    print()"
   ]
  },
  {
   "cell_type": "code",
   "execution_count": 8,
   "id": "bc7168b8",
   "metadata": {},
   "outputs": [
    {
     "name": "stdout",
     "output_type": "stream",
     "text": [
      "   3\n",
      "  234\n",
      " 12345\n",
      "0123456\n"
     ]
    }
   ],
   "source": [
    "n=7\n",
    "n=(n-1)//2\n",
    "for i in range(4):\n",
    "    k=n-i\n",
    "    l=n+i\n",
    "    for j in range(k):\n",
    "        print(\" \",end='')\n",
    "    for j in range(k,l+1):\n",
    "            print(j,end='')\n",
    "    print()"
   ]
  },
  {
   "cell_type": "code",
   "execution_count": 9,
   "id": "67565bda",
   "metadata": {},
   "outputs": [
    {
     "name": "stdout",
     "output_type": "stream",
     "text": [
      "   0123\n",
      "  0123\n",
      " 0123\n",
      "0123\n"
     ]
    }
   ],
   "source": [
    "for i in range(4):\n",
    "    for j in range(4-i-1):\n",
    "        print(\" \",end='')\n",
    "    for j in range(4):\n",
    "        print(j,end='')\n",
    "    print()"
   ]
  },
  {
   "cell_type": "code",
   "execution_count": 10,
   "id": "e8978ee5",
   "metadata": {},
   "outputs": [
    {
     "name": "stdout",
     "output_type": "stream",
     "text": [
      "0   \n",
      "01  \n",
      "012 \n",
      "0123\n"
     ]
    }
   ],
   "source": [
    "n=4\n",
    "for i in range(n):\n",
    "    for j in range(n):\n",
    "        if i>=j:\n",
    "            print(j,end='')\n",
    "        else:\n",
    "            print(\" \",end='')\n",
    "    print()"
   ]
  },
  {
   "cell_type": "code",
   "execution_count": 11,
   "id": "702e5244",
   "metadata": {},
   "outputs": [
    {
     "name": "stdout",
     "output_type": "stream",
     "text": [
      "0123\n",
      " 123\n",
      "  23\n",
      "   3\n"
     ]
    }
   ],
   "source": [
    "n=4\n",
    "for i in range(n):\n",
    "    for j in range(n):\n",
    "        if i<=j:\n",
    "            print(j,end='')\n",
    "        else:\n",
    "            print(\" \",end='')\n",
    "    print()"
   ]
  },
  {
   "cell_type": "code",
   "execution_count": 12,
   "id": "7316049f",
   "metadata": {},
   "outputs": [
    {
     "name": "stdout",
     "output_type": "stream",
     "text": [
      "0123\n",
      "012 \n",
      "01  \n",
      "0   \n"
     ]
    }
   ],
   "source": [
    "n=4\n",
    "for i in range(n):\n",
    "    for j in range(n):\n",
    "        r=n-i-1\n",
    "        if r>=j:\n",
    "            print(j,end='')\n",
    "        else:\n",
    "            print(\" \",end='')\n",
    "    print()"
   ]
  },
  {
   "cell_type": "code",
   "execution_count": 13,
   "id": "93e5792c",
   "metadata": {},
   "outputs": [
    {
     "name": "stdout",
     "output_type": "stream",
     "text": [
      "   3\n",
      "  23\n",
      " 123\n",
      "0123\n"
     ]
    }
   ],
   "source": [
    "n=4\n",
    "for i in range(n):\n",
    "    for j in range(n):\n",
    "        r=n-i-1\n",
    "        if r<=j:\n",
    "            print(j,end='')\n",
    "        else:\n",
    "            print(\" \",end='')\n",
    "    print()"
   ]
  },
  {
   "cell_type": "code",
   "execution_count": 14,
   "id": "6da3d764-6e32-47d1-93b0-5ae456c901a9",
   "metadata": {},
   "outputs": [
    {
     "name": "stdout",
     "output_type": "stream",
     "text": [
      "0123\n",
      " 012\n",
      "  01\n",
      "   0\n"
     ]
    }
   ],
   "source": [
    "n=4\n",
    "for i in range(n):\n",
    "    for j in range(n):\n",
    "        if i<=j:\n",
    "            print((j-i),end='')\n",
    "        else:\n",
    "            print(\" \",end='')\n",
    "    print()"
   ]
  },
  {
   "cell_type": "code",
   "execution_count": 80,
   "id": "2f94d66e",
   "metadata": {},
   "outputs": [
    {
     "name": "stdout",
     "output_type": "stream",
     "text": [
      "0\n",
      "01\n",
      "012\n",
      "0123\n",
      "01234\n",
      "0123\n",
      "123\n",
      "23\n",
      "3\n"
     ]
    }
   ],
   "source": [
    "n=5\n",
    "for i in range(n):\n",
    "    for j in range(i+1):\n",
    "        print(j,end='')\n",
    "    print()\n",
    "for i in range(n-1):\n",
    "    for j in range(i,n-1):\n",
    "        print(j,end='')\n",
    "    print()"
   ]
  },
  {
   "cell_type": "code",
   "execution_count": 84,
   "id": "f8c9f2b6",
   "metadata": {},
   "outputs": [
    {
     "name": "stdout",
     "output_type": "stream",
     "text": [
      "0\n",
      "01\n",
      "012\n",
      "0123\n",
      "01234\n",
      "0123\n",
      "012\n",
      "01\n",
      "0\n"
     ]
    }
   ],
   "source": [
    "n=5\n",
    "for i in range(n):\n",
    "    for j in range(i+1):\n",
    "        print(j,end='')\n",
    "    print()\n",
    "for i in range(n-1):\n",
    "    for j in range(0,n-1-i):\n",
    "        print(j,end='')\n",
    "    print()"
   ]
  },
  {
   "cell_type": "code",
   "execution_count": 99,
   "id": "5ba47965",
   "metadata": {},
   "outputs": [
    {
     "name": "stdout",
     "output_type": "stream",
     "text": [
      "   3\n",
      "  234\n",
      " 12345\n",
      "0123456\n",
      "0123456\n",
      " 12345\n",
      "  234\n",
      "   3\n"
     ]
    }
   ],
   "source": [
    "n=7\n",
    "n=(n-1)//2\n",
    "for i in range(4):\n",
    "    k=n-i\n",
    "    l=n+i\n",
    "    for j in range(k):\n",
    "        print(\" \",end='')\n",
    "    for j in range(k,l+1):\n",
    "            print(j,end='')\n",
    "    print()\n",
    "for i in range(3,-1,-1):\n",
    "    k=n-i\n",
    "    l=n+i\n",
    "    for j in range(k):\n",
    "        print(\" \",end='')\n",
    "    for j in range(k,l+1):\n",
    "            print(j,end='')\n",
    "    print()"
   ]
  },
  {
   "cell_type": "code",
   "execution_count": 100,
   "id": "1ff10854",
   "metadata": {},
   "outputs": [
    {
     "name": "stdout",
     "output_type": "stream",
     "text": [
      "   3\n",
      "  234\n",
      " 12345\n",
      "0123456\n",
      " 12345\n",
      "  234\n",
      "   3\n"
     ]
    }
   ],
   "source": [
    "n=7\n",
    "n=(n-1)//2\n",
    "for i in range(4):\n",
    "    k=n-i\n",
    "    l=n+i\n",
    "    for j in range(k):\n",
    "        print(\" \",end='')\n",
    "    for j in range(k,l+1):\n",
    "            print(j,end='')\n",
    "    print()\n",
    "for i in range(2,-1,-1):\n",
    "    k=n-i\n",
    "    l=n+i\n",
    "    for j in range(k):\n",
    "        print(\" \",end='')\n",
    "    for j in range(k,l+1):\n",
    "            print(j,end='')\n",
    "    print()"
   ]
  },
  {
   "cell_type": "code",
   "execution_count": 17,
   "id": "ba77a833",
   "metadata": {},
   "outputs": [
    {
     "name": "stdout",
     "output_type": "stream",
     "text": [
      "0 1 2 3 \n",
      " 1 2 3 \n",
      "  2 3 \n",
      "   3 \n"
     ]
    }
   ],
   "source": [
    "n=4\n",
    "for i in range(n):\n",
    "    for j in range(n):\n",
    "        if i<=j:\n",
    "            print(j,\"\",end='')\n",
    "        else:\n",
    "            print(\" \",end='')\n",
    "    print()"
   ]
  },
  {
   "cell_type": "code",
   "execution_count": 19,
   "id": "ce1f867b-6d45-44f5-a8c3-2719fe6faac4",
   "metadata": {},
   "outputs": [
    {
     "name": "stdout",
     "output_type": "stream",
     "text": [
      "   3 \n",
      "  2 3 \n",
      " 1 2 3 \n",
      "0 1 2 3 \n"
     ]
    }
   ],
   "source": [
    "n=4\n",
    "for i in range(n):\n",
    "    for j in range(n):\n",
    "        r=n-i-1\n",
    "        if r<=j:\n",
    "            print(j,\"\",end='')\n",
    "        else:\n",
    "            print(\" \",end='')\n",
    "    print()"
   ]
  },
  {
   "cell_type": "code",
   "execution_count": null,
   "id": "5990c653-ebf2-4eac-8044-8591c0b9c34a",
   "metadata": {},
   "outputs": [],
   "source": []
  }
 ],
 "metadata": {
  "kernelspec": {
   "display_name": "Python 3 (ipykernel)",
   "language": "python",
   "name": "python3"
  },
  "language_info": {
   "codemirror_mode": {
    "name": "ipython",
    "version": 3
   },
   "file_extension": ".py",
   "mimetype": "text/x-python",
   "name": "python",
   "nbconvert_exporter": "python",
   "pygments_lexer": "ipython3",
   "version": "3.11.7"
  }
 },
 "nbformat": 4,
 "nbformat_minor": 5
}

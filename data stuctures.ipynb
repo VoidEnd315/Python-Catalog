{
 "cells": [
  {
   "cell_type": "code",
   "execution_count": 9,
   "id": "a1a29449",
   "metadata": {},
   "outputs": [
    {
     "name": "stdout",
     "output_type": "stream",
     "text": [
      "inserted  10\n",
      "[10]\n",
      "inserted  20\n",
      "[10, 20]\n",
      "inserted  30\n",
      "[10, 20, 30]\n",
      "popped  30\n",
      "[10, 20]\n",
      "popped  20\n",
      "[10]\n"
     ]
    }
   ],
   "source": [
    "#stack\n",
    "a=[]\n",
    "def insert(n):\n",
    "    a.append(n)\n",
    "    print(\"inserted \",n)\n",
    "    print(a)\n",
    "def pop():\n",
    "    top=len(a)-1\n",
    "    copy=a[top]\n",
    "    a.remove(a[top])\n",
    "    print(\"popped \",copy)\n",
    "    print(a)\n",
    "insert(10)\n",
    "insert(20)\n",
    "insert(30)\n",
    "pop()\n",
    "pop()"
   ]
  },
  {
   "cell_type": "code",
   "execution_count": 10,
   "id": "e9b80fab",
   "metadata": {},
   "outputs": [
    {
     "name": "stdout",
     "output_type": "stream",
     "text": [
      "inserted  10\n",
      "[10]\n",
      "inserted  20\n",
      "[10, 20]\n",
      "inserted  30\n",
      "[10, 20, 30]\n",
      "popped  10\n",
      "[20, 30]\n",
      "popped  20\n",
      "[30]\n"
     ]
    }
   ],
   "source": [
    "#queqe\n",
    "a=[]\n",
    "def insert(n):\n",
    "    a.append(n)\n",
    "    print(\"inserted \",n)\n",
    "    print(a)\n",
    "def pop():\n",
    "    copy=a[0]\n",
    "    a.remove(a[0])\n",
    "    print(\"popped \",copy)\n",
    "    print(a)\n",
    "insert(10)\n",
    "insert(20)\n",
    "insert(30)\n",
    "pop()\n",
    "pop()"
   ]
  },
  {
   "cell_type": "code",
   "execution_count": null,
   "id": "82708d68-0f4d-43e8-a927-0ed7f3400443",
   "metadata": {},
   "outputs": [],
   "source": [
    "#DFS\n"
   ]
  },
  {
   "cell_type": "code",
   "execution_count": null,
   "id": "1f182799-92f8-4e75-8c21-092b6c01aed1",
   "metadata": {},
   "outputs": [],
   "source": [
    "#BFS\n"
   ]
  },
  {
   "cell_type": "code",
   "execution_count": 12,
   "id": "04174f85-611d-4a7f-8bfd-be178bfabb52",
   "metadata": {
    "tags": []
   },
   "outputs": [
    {
     "name": "stdout",
     "output_type": "stream",
     "text": [
      "2\n",
      "Banana is in the dictionary\n",
      "dict_keys(['apple', 'banana', 'date'])\n",
      "dict_values([5, 2, 4])\n",
      "apple: 5\n",
      "banana: 2\n",
      "date: 4\n"
     ]
    }
   ],
   "source": [
    "# Creating a dictionary\n",
    "my_dict = {\"apple\": 1, \"banana\": 2, \"cherry\": 3}\n",
    "\n",
    "# Accessing values\n",
    "print(my_dict[\"banana\"])  # Output: 2\n",
    "\n",
    "# Adding a new key-value pair\n",
    "my_dict[\"date\"] = 4\n",
    "\n",
    "# Updating a value\n",
    "my_dict[\"apple\"] = 5\n",
    "\n",
    "# Removing a key-value pair\n",
    "del my_dict[\"cherry\"]\n",
    "\n",
    "# Checking if a key exists\n",
    "if \"banana\" in my_dict:\n",
    "    print(\"Banana is in the dictionary\")\n",
    "\n",
    "# Getting all keys and values\n",
    "print(my_dict.keys())\n",
    "print(my_dict.values())\n",
    "\n",
    "# Iterating through a dictionary\n",
    "for key, value in my_dict.items():\n",
    "    print(f\"{key}: {value}\")"
   ]
  },
  {
   "cell_type": "code",
   "execution_count": 4,
   "id": "892e251d",
   "metadata": {
    "tags": []
   },
   "outputs": [
    {
     "name": "stdout",
     "output_type": "stream",
     "text": [
      "Duplicate elements and their frequencies:\n",
      "1: 2\n",
      "2: 3\n",
      "3: 3\n",
      "5: 2\n"
     ]
    }
   ],
   "source": [
    "#FREQUENCY IN ARRAY USING DICT\n",
    "def count_duplicates(arr):\n",
    "    frequency = {}\n",
    "    \n",
    "    for item in arr:\n",
    "        if arr.count(item) > 1:\n",
    "            frequency[item] = arr.count(item)\n",
    "    \n",
    "    return frequency\n",
    "\n",
    "# Example usage\n",
    "arr = [1, 2, 3, 4, 2, 3, 5, 1, 6, 2, 5, 3]\n",
    "result = count_duplicates(arr)\n",
    "\n",
    "print(\"Duplicate elements and their frequencies:\")\n",
    "for item, count in result.items():\n",
    "    print(f\"{item}: {count}\")"
   ]
  },
  {
   "cell_type": "code",
   "execution_count": null,
   "id": "35ada766-4c3a-4059-8e4b-7e7f45c7d67a",
   "metadata": {},
   "outputs": [],
   "source": [
    "# dict ex1\n",
    "n=[1,2,34,5,6,677,8,3,4,5,2,1,]\n",
    "dict2={}\n",
    "for i in n:\n",
    "    if n.count(i)>1:\n",
    "        dict2[i]=n.count(i)\n",
    "print(\"no:   freq\")\n",
    "for i,k in dict2.items():\n",
    "    print(f\"{i} :     {k}\")"
   ]
  },
  {
   "cell_type": "code",
   "execution_count": null,
   "id": "f146a604-da93-48a3-bb7f-199391646de6",
   "metadata": {},
   "outputs": [],
   "source": [
    "# dict ex2\n",
    "str1 = \"abc.abbbc.abababbc.abcd\"\n",
    "new = str1.split('.')\n",
    "dict1={}\n",
    "for i, substring in enumerate(new):\n",
    "    dict1[i] = substring.count('b')\n",
    "print(dict1.keys())\n",
    "print(dict1.values())\n",
    "g=max(dict1.values())\n",
    "for i, k in dict1.items():\n",
    "    if k==g:\n",
    "        print(i)"
   ]
  },
  {
   "cell_type": "code",
   "execution_count": null,
   "id": "95d5fbf0-f5fc-4e30-acf3-5c938f509909",
   "metadata": {},
   "outputs": [],
   "source": [
    "#comprehension\n",
    "fruits = [\"apple\", \"banana\", \"cherry\", \"kiwi\", \"mango\"]\n",
    "\n",
    "newlist = [x for x in fruits if \"a\" in x]\n",
    "\n",
    "print(newlist)"
   ]
  }
 ],
 "metadata": {
  "kernelspec": {
   "display_name": "Python 3 (ipykernel)",
   "language": "python",
   "name": "python3"
  },
  "language_info": {
   "codemirror_mode": {
    "name": "ipython",
    "version": 3
   },
   "file_extension": ".py",
   "mimetype": "text/x-python",
   "name": "python",
   "nbconvert_exporter": "python",
   "pygments_lexer": "ipython3",
   "version": "3.11.7"
  }
 },
 "nbformat": 4,
 "nbformat_minor": 5
}

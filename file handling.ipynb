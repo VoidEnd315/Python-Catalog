{
 "cells": [
  {
   "cell_type": "markdown",
   "id": "ef8728be-c2d1-4b58-882f-30c82ef72891",
   "metadata": {},
   "source": [
    "Reading from a File"
   ]
  },
  {
   "cell_type": "code",
   "execution_count": null,
   "id": "ef075016-0001-4bb3-bff8-f253c04e8591",
   "metadata": {},
   "outputs": [],
   "source": [
    "# Reading Entire File Using read()\n",
    "file = open('example.txt', 'r')\n",
    "content = file.read()\n",
    "print(content)\n",
    "file.close()\n",
    "\n",
    "#Reading Line by Line Using readline()\n",
    "file = open('example.txt', 'r')\n",
    "line = file.readline()\n",
    "print(line)\n",
    "file.close()\n",
    "\n",
    "#Reading All Lines into a List Using readlines()\n",
    "file = open('example.txt', 'r')\n",
    "lines = file.readlines()\n",
    "for x in lines:\n",
    "    print(x)\n",
    "file.close()"
   ]
  },
  {
   "cell_type": "markdown",
   "id": "46e20a42-a0f7-430b-9e82-a6ede33078f0",
   "metadata": {},
   "source": [
    "Writing to a File"
   ]
  },
  {
   "cell_type": "code",
   "execution_count": null,
   "id": "b10757c8-5b72-4a40-85f1-bfedb9d871ca",
   "metadata": {},
   "outputs": [],
   "source": [
    "#1\n",
    "file = open('examplewr.txt', 'w')\n",
    "file.write(\"Hello, World!\\n\")  \n",
    "file.close()\n",
    "\n",
    "#2\n",
    "lines = [\"First line\\n\", \"Second line\\n\", \"Third line\\n\"]\n",
    "file = open('examplewr.txt', 'w')\n",
    "file.writelines(lines)\n",
    "file.close()"
   ]
  },
  {
   "cell_type": "markdown",
   "id": "0bc8d7a5-23c3-48b0-8dba-31dc1e3a4886",
   "metadata": {},
   "source": [
    "Appending to a File"
   ]
  },
  {
   "cell_type": "code",
   "execution_count": null,
   "id": "a3e25395-ba2f-4ea1-a0bd-5f2650f49346",
   "metadata": {},
   "outputs": [],
   "source": [
    "file = open('examplewr.txt', 'a')\n",
    "file.write(\"This will be added to the end.\\n\")\n",
    "file.close()"
   ]
  },
  {
   "cell_type": "markdown",
   "id": "bf373fc6-f724-4c67-b7c4-76da87c0915c",
   "metadata": {},
   "source": [
    "Using the with Statement"
   ]
  },
  {
   "cell_type": "code",
   "execution_count": null,
   "id": "3c7d7680-60e7-4755-98c5-73322a9772ce",
   "metadata": {},
   "outputs": [],
   "source": [
    "with open('example.txt', 'r') as file:\n",
    "    content = file.read()\n",
    "    print(content)"
   ]
  }
 ],
 "metadata": {
  "kernelspec": {
   "display_name": "Python 3 (ipykernel)",
   "language": "python",
   "name": "python3"
  },
  "language_info": {
   "codemirror_mode": {
    "name": "ipython",
    "version": 3
   },
   "file_extension": ".py",
   "mimetype": "text/x-python",
   "name": "python",
   "nbconvert_exporter": "python",
   "pygments_lexer": "ipython3",
   "version": "3.11.7"
  }
 },
 "nbformat": 4,
 "nbformat_minor": 5
}

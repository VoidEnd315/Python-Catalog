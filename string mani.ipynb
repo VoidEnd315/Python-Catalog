{
 "cells": [
  {
   "cell_type": "code",
   "execution_count": null,
   "id": "e1c85ee6-16f2-4f58-a62b-9d6beb2f4037",
   "metadata": {},
   "outputs": [],
   "source": [
    "#STRING MANIPUL\n",
    "s=\"asdfhgjh\"\n",
    "print(len(s))\n",
    "print(s.count(\"a\"))\n",
    "print(s.split(\"d\"))\n",
    "print(s.find(\"h\"))\n",
    "print(s.index(\"h\"))\n",
    "s1 = s.split(\"d\")\n",
    "print(max(s1))\n",
    "print(s.rsplit(\"d\"))\n",
    "s2 = ['abc', 'def', 'ghi']\n",
    "for i in s2[::-1]:\n",
    "    print(i,end='')"
   ]
  },
  {
   "cell_type": "code",
   "execution_count": null,
   "id": "065907cc-f830-4300-bce1-6fd13e948ce1",
   "metadata": {},
   "outputs": [],
   "source": [
    "str1 = \"abc.abbbc.abababbc.abcd\"\n",
    "new = str1.split('.')\n",
    "dict1={}\n",
    "for i, substring in enumerate(new):\n",
    "    dict1[i] = substring.count('b')\n",
    "print(dict1.keys())\n",
    "print(dict1.values())\n",
    "g=max(dict1.values())\n",
    "for i, k in dict1.items():\n",
    "    if k==g:\n",
    "        print(i)"
   ]
  },
  {
   "cell_type": "code",
   "execution_count": null,
   "id": "0851823b-63a6-4d4d-9788-2b630119a062",
   "metadata": {},
   "outputs": [],
   "source": []
  }
 ],
 "metadata": {
  "kernelspec": {
   "display_name": "Python 3 (ipykernel)",
   "language": "python",
   "name": "python3"
  },
  "language_info": {
   "codemirror_mode": {
    "name": "ipython",
    "version": 3
   },
   "file_extension": ".py",
   "mimetype": "text/x-python",
   "name": "python",
   "nbconvert_exporter": "python",
   "pygments_lexer": "ipython3",
   "version": "3.11.7"
  }
 },
 "nbformat": 4,
 "nbformat_minor": 5
}
